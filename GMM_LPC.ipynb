{
 "cells": [
  {
   "cell_type": "code",
   "execution_count": 1,
   "metadata": {},
   "outputs": [],
   "source": [
    "import pandas as pd\n",
    "import numpy as np\n",
    "import os\n",
    "\n",
    "import librosa\n",
    "import moviepy.editor as mp\n",
    "\n",
    "#use this package to extract mfcc features\n",
    "import python_speech_features as mfcc\n",
    "from python_speech_features import delta\n",
    "\n",
    "from sklearn import preprocessing\n",
    "from sklearn.model_selection import train_test_split\n",
    "from sklearn.mixture import GaussianMixture\n",
    "from sklearn.preprocessing import LabelEncoder, minmax_scale"
   ]
  },
  {
   "cell_type": "markdown",
   "metadata": {},
   "source": [
    "### Prepare the dataset"
   ]
  },
  {
   "cell_type": "code",
   "execution_count": 2,
   "metadata": {},
   "outputs": [],
   "source": [
    "#get all the video files\n",
    "#video_path = r\"C:/Users/Gauri/OneDrive/Desktop/DS3/MELD.Raw/train_splits\"\n",
    "audio_path = r\"wav_files/train\"\n",
    "#files = os.listdir(video_path)\n",
    "wav_files = os.listdir(audio_path)\n",
    "#error_files when converting data\n",
    "error_files = ['dia125_utt3.mp4','dia795_utt0.mp4']"
   ]
  },
  {
   "cell_type": "code",
   "execution_count": 3,
   "metadata": {},
   "outputs": [
    {
     "data": {
      "text/html": [
       "<div>\n",
       "<style scoped>\n",
       "    .dataframe tbody tr th:only-of-type {\n",
       "        vertical-align: middle;\n",
       "    }\n",
       "\n",
       "    .dataframe tbody tr th {\n",
       "        vertical-align: top;\n",
       "    }\n",
       "\n",
       "    .dataframe thead th {\n",
       "        text-align: right;\n",
       "    }\n",
       "</style>\n",
       "<table border=\"1\" class=\"dataframe\">\n",
       "  <thead>\n",
       "    <tr style=\"text-align: right;\">\n",
       "      <th></th>\n",
       "      <th>Sr No.</th>\n",
       "      <th>Utterance</th>\n",
       "      <th>Speaker</th>\n",
       "      <th>Emotion</th>\n",
       "      <th>Sentiment</th>\n",
       "      <th>Dialogue_ID</th>\n",
       "      <th>Utterance_ID</th>\n",
       "      <th>Season</th>\n",
       "      <th>Episode</th>\n",
       "      <th>StartTime</th>\n",
       "      <th>EndTime</th>\n",
       "    </tr>\n",
       "  </thead>\n",
       "  <tbody>\n",
       "    <tr>\n",
       "      <th>0</th>\n",
       "      <td>1</td>\n",
       "      <td>also I was the point person on my company’s tr...</td>\n",
       "      <td>Chandler</td>\n",
       "      <td>neutral</td>\n",
       "      <td>neutral</td>\n",
       "      <td>0</td>\n",
       "      <td>0</td>\n",
       "      <td>8</td>\n",
       "      <td>21</td>\n",
       "      <td>00:16:16,059</td>\n",
       "      <td>00:16:21,731</td>\n",
       "    </tr>\n",
       "    <tr>\n",
       "      <th>1</th>\n",
       "      <td>2</td>\n",
       "      <td>You must’ve had your hands full.</td>\n",
       "      <td>The Interviewer</td>\n",
       "      <td>neutral</td>\n",
       "      <td>neutral</td>\n",
       "      <td>0</td>\n",
       "      <td>1</td>\n",
       "      <td>8</td>\n",
       "      <td>21</td>\n",
       "      <td>00:16:21,940</td>\n",
       "      <td>00:16:23,442</td>\n",
       "    </tr>\n",
       "    <tr>\n",
       "      <th>2</th>\n",
       "      <td>3</td>\n",
       "      <td>That I did. That I did.</td>\n",
       "      <td>Chandler</td>\n",
       "      <td>neutral</td>\n",
       "      <td>neutral</td>\n",
       "      <td>0</td>\n",
       "      <td>2</td>\n",
       "      <td>8</td>\n",
       "      <td>21</td>\n",
       "      <td>00:16:23,442</td>\n",
       "      <td>00:16:26,389</td>\n",
       "    </tr>\n",
       "    <tr>\n",
       "      <th>3</th>\n",
       "      <td>4</td>\n",
       "      <td>So let’s talk a little bit about your duties.</td>\n",
       "      <td>The Interviewer</td>\n",
       "      <td>neutral</td>\n",
       "      <td>neutral</td>\n",
       "      <td>0</td>\n",
       "      <td>3</td>\n",
       "      <td>8</td>\n",
       "      <td>21</td>\n",
       "      <td>00:16:26,820</td>\n",
       "      <td>00:16:29,572</td>\n",
       "    </tr>\n",
       "    <tr>\n",
       "      <th>4</th>\n",
       "      <td>5</td>\n",
       "      <td>My duties?  All right.</td>\n",
       "      <td>Chandler</td>\n",
       "      <td>surprise</td>\n",
       "      <td>positive</td>\n",
       "      <td>0</td>\n",
       "      <td>4</td>\n",
       "      <td>8</td>\n",
       "      <td>21</td>\n",
       "      <td>00:16:34,452</td>\n",
       "      <td>00:16:40,917</td>\n",
       "    </tr>\n",
       "    <tr>\n",
       "      <th>...</th>\n",
       "      <td>...</td>\n",
       "      <td>...</td>\n",
       "      <td>...</td>\n",
       "      <td>...</td>\n",
       "      <td>...</td>\n",
       "      <td>...</td>\n",
       "      <td>...</td>\n",
       "      <td>...</td>\n",
       "      <td>...</td>\n",
       "      <td>...</td>\n",
       "      <td>...</td>\n",
       "    </tr>\n",
       "    <tr>\n",
       "      <th>9984</th>\n",
       "      <td>10474</td>\n",
       "      <td>You or me?</td>\n",
       "      <td>Chandler</td>\n",
       "      <td>neutral</td>\n",
       "      <td>neutral</td>\n",
       "      <td>1038</td>\n",
       "      <td>13</td>\n",
       "      <td>2</td>\n",
       "      <td>3</td>\n",
       "      <td>00:00:48,173</td>\n",
       "      <td>00:00:50,799</td>\n",
       "    </tr>\n",
       "    <tr>\n",
       "      <th>9985</th>\n",
       "      <td>10475</td>\n",
       "      <td>I got it. Uh, Joey, women don't have Adam's ap...</td>\n",
       "      <td>Ross</td>\n",
       "      <td>neutral</td>\n",
       "      <td>neutral</td>\n",
       "      <td>1038</td>\n",
       "      <td>14</td>\n",
       "      <td>2</td>\n",
       "      <td>3</td>\n",
       "      <td>00:00:51,009</td>\n",
       "      <td>00:00:53,594</td>\n",
       "    </tr>\n",
       "    <tr>\n",
       "      <th>9986</th>\n",
       "      <td>10476</td>\n",
       "      <td>You guys are messing with me, right?</td>\n",
       "      <td>Joey</td>\n",
       "      <td>surprise</td>\n",
       "      <td>positive</td>\n",
       "      <td>1038</td>\n",
       "      <td>15</td>\n",
       "      <td>2</td>\n",
       "      <td>3</td>\n",
       "      <td>00:01:00,518</td>\n",
       "      <td>00:01:03,520</td>\n",
       "    </tr>\n",
       "    <tr>\n",
       "      <th>9987</th>\n",
       "      <td>10477</td>\n",
       "      <td>Yeah.</td>\n",
       "      <td>All</td>\n",
       "      <td>neutral</td>\n",
       "      <td>neutral</td>\n",
       "      <td>1038</td>\n",
       "      <td>16</td>\n",
       "      <td>2</td>\n",
       "      <td>3</td>\n",
       "      <td>00:01:05,398</td>\n",
       "      <td>00:01:07,274</td>\n",
       "    </tr>\n",
       "    <tr>\n",
       "      <th>9988</th>\n",
       "      <td>10478</td>\n",
       "      <td>That was a good one. For a second there, I was...</td>\n",
       "      <td>Joey</td>\n",
       "      <td>joy</td>\n",
       "      <td>positive</td>\n",
       "      <td>1038</td>\n",
       "      <td>17</td>\n",
       "      <td>2</td>\n",
       "      <td>3</td>\n",
       "      <td>00:01:08,401</td>\n",
       "      <td>00:01:12,071</td>\n",
       "    </tr>\n",
       "  </tbody>\n",
       "</table>\n",
       "<p>9987 rows × 11 columns</p>\n",
       "</div>"
      ],
      "text/plain": [
       "      Sr No.                                          Utterance  \\\n",
       "0          1  also I was the point person on my company’s tr...   \n",
       "1          2                   You must’ve had your hands full.   \n",
       "2          3                            That I did. That I did.   \n",
       "3          4      So let’s talk a little bit about your duties.   \n",
       "4          5                             My duties?  All right.   \n",
       "...      ...                                                ...   \n",
       "9984   10474                                         You or me?   \n",
       "9985   10475  I got it. Uh, Joey, women don't have Adam's ap...   \n",
       "9986   10476               You guys are messing with me, right?   \n",
       "9987   10477                                              Yeah.   \n",
       "9988   10478  That was a good one. For a second there, I was...   \n",
       "\n",
       "              Speaker   Emotion Sentiment  Dialogue_ID  Utterance_ID  Season  \\\n",
       "0            Chandler   neutral   neutral            0             0       8   \n",
       "1     The Interviewer   neutral   neutral            0             1       8   \n",
       "2            Chandler   neutral   neutral            0             2       8   \n",
       "3     The Interviewer   neutral   neutral            0             3       8   \n",
       "4            Chandler  surprise  positive            0             4       8   \n",
       "...               ...       ...       ...          ...           ...     ...   \n",
       "9984         Chandler   neutral   neutral         1038            13       2   \n",
       "9985             Ross   neutral   neutral         1038            14       2   \n",
       "9986             Joey  surprise  positive         1038            15       2   \n",
       "9987              All   neutral   neutral         1038            16       2   \n",
       "9988             Joey       joy  positive         1038            17       2   \n",
       "\n",
       "      Episode     StartTime       EndTime  \n",
       "0          21  00:16:16,059  00:16:21,731  \n",
       "1          21  00:16:21,940  00:16:23,442  \n",
       "2          21  00:16:23,442  00:16:26,389  \n",
       "3          21  00:16:26,820  00:16:29,572  \n",
       "4          21  00:16:34,452  00:16:40,917  \n",
       "...       ...           ...           ...  \n",
       "9984        3  00:00:48,173  00:00:50,799  \n",
       "9985        3  00:00:51,009  00:00:53,594  \n",
       "9986        3  00:01:00,518  00:01:03,520  \n",
       "9987        3  00:01:05,398  00:01:07,274  \n",
       "9988        3  00:01:08,401  00:01:12,071  \n",
       "\n",
       "[9987 rows x 11 columns]"
      ]
     },
     "execution_count": 3,
     "metadata": {},
     "output_type": "execute_result"
    }
   ],
   "source": [
    "data_df = pd.read_csv(\"https://raw.githubusercontent.com/declare-lab/MELD/master/data/MELD/train_sent_emo.csv\")\n",
    "#drop the row that give us an error audio\n",
    "error = data_df[(data_df['Dialogue_ID']==125) & (data_df['Utterance_ID']==3)].index\n",
    "error2 = data_df[(data_df['Dialogue_ID']==795) & (data_df['Utterance_ID']==0)].index\n",
    "data_df.drop(error, inplace=True)\n",
    "data_df.drop(error2,inplace=True)\n",
    "data_df"
   ]
  },
  {
   "cell_type": "markdown",
   "metadata": {},
   "source": [
    "### Split the Train/Test dataset"
   ]
  },
  {
   "cell_type": "code",
   "execution_count": 4,
   "metadata": {},
   "outputs": [],
   "source": [
    "#select the main characters and split training and testing set\n",
    "main = ['Chandler', 'Rachel', 'Ross', 'Joey', 'Monica', 'Phoebe']\n",
    "main_data = data_df[data_df['Speaker'].isin(main)]\n",
    "X_train, X_test, y_train, y_test = train_test_split(main_data[['Dialogue_ID', 'Utterance_ID','Speaker']], \n",
    "                                                    main_data['Speaker'], \n",
    "                                                    test_size=0.25, shuffle=True, random_state=42)"
   ]
  },
  {
   "cell_type": "markdown",
   "metadata": {},
   "source": [
    "### Define Hepler Functions"
   ]
  },
  {
   "cell_type": "code",
   "execution_count": 5,
   "metadata": {},
   "outputs": [],
   "source": [
    "def normalize(x, axis=0):\n",
    "    return minmax_scale(x, axis=axis)"
   ]
  },
  {
   "cell_type": "code",
   "execution_count": 6,
   "metadata": {},
   "outputs": [],
   "source": [
    "def process_data(df):\n",
    "    \"\"\"\n",
    "    Extract features from a dataframes of audio files\n",
    "    Input: A dataframe contains the Dialogue ID and Utterance ID\n",
    "    Output: A 2D numpy array of features extracted from audio files \n",
    "    \"\"\"\n",
    "    lpc_features = np.array([])\n",
    "    counter = 0 #used to count how many audio files does not have lpc\n",
    "    \n",
    "    for i in range(len(df)):\n",
    "        entry = df.iloc[i]\n",
    "        dia = entry['Dialogue_ID']\n",
    "        utt = entry['Utterance_ID']\n",
    "        path = fr\"wav_files/train/dia{dia}_utt{utt}.wav\"\n",
    "        audio, sr = librosa.load(path,res_type='kaiser_fast'\n",
    "                                  ,duration=2.5\n",
    "                                  ,sr=44100\n",
    "                                  ,offset=0.5)\n",
    "        \n",
    "        #print(audio.shape)\n",
    "        try:\n",
    "            # adding LPC Preprocessing\n",
    "            audio = normalize(audio)\n",
    "            audio = librosa.effects.preemphasis(audio)\n",
    "            audio_lpc = librosa.lpc(audio,44)\n",
    "        except:\n",
    "            #print('no mfcc from audio')\n",
    "            counter = counter+1\n",
    "            continue\n",
    "        # need to reshape lpc to 2d array\n",
    "        audio_lpc = audio_lpc.reshape(-1, 1)\n",
    "        delta1 = delta(audio_lpc, 2)\n",
    "        delta2 = delta(delta1, 2)\n",
    "        combined = np.hstack((audio_lpc, delta1, delta2))\n",
    "        if lpc_features.size == 0:\n",
    "            lpc_features = combined\n",
    "        else:\n",
    "            lpc_features = np.vstack((lpc_features, combined))\n",
    "            \n",
    "    \n",
    "    print(str(counter)+\" has no lpcs\")\n",
    "    return lpc_features"
   ]
  },
  {
   "cell_type": "code",
   "execution_count": 7,
   "metadata": {},
   "outputs": [],
   "source": [
    "def identify(dia, utt, m1, m2, m3, m4, m5, m6):\n",
    "    \"\"\"\n",
    "    Given an audio file and six models, identify the speaker\n",
    "    Input: Dialogue ID, Utterance ID, and six models(one for each speaker)\n",
    "    Output: the speaker\n",
    "    \"\"\"\n",
    "    path = fr\"wav_files/train/dia{dia}_utt{utt}.wav\"\n",
    "\n",
    "    audio, sr = librosa.load(path,res_type='kaiser_fast'\n",
    "                                      ,duration=2.5\n",
    "                                      ,sr=44100\n",
    "                                      ,offset=0.5)\n",
    "    \n",
    "        \n",
    "    try:\n",
    "        # adding LPC Preprocessing\n",
    "        audio = normalize(audio)\n",
    "        audio = librosa.effects.preemphasis(audio)\n",
    "        audio_lpc = librosa.lpc(audio,44)\n",
    "    except:\n",
    "        return None\n",
    "    \n",
    "    # need to reshape lpc to 2d array\n",
    "    audio_lpc = audio_lpc.reshape(-1, 1)\n",
    "    delta1 = delta(audio_lpc, 2)\n",
    "    delta2 = delta(delta1, 2)\n",
    "    combined = np.hstack((audio_lpc, delta1, delta2))\n",
    "\n",
    "    scores = np.array([m1.score(combined), m2.score(combined), m3.score(combined),\n",
    "                         m4.score(combined), m5.score(combined), m6.score(combined)])\n",
    "    idx = np.argmax(scores)\n",
    "    \n",
    "    return main[idx]"
   ]
  },
  {
   "cell_type": "code",
   "execution_count": 41,
   "metadata": {},
   "outputs": [],
   "source": [
    "#test\n",
    "# data,sr = librosa.load(\"wav_files/train/dia0_utt0.wav\",res_type='kaiser_fast'\n",
    "#                                   ,duration=2.5\n",
    "#                                   ,sr=44100\n",
    "#                                   ,offset=0.5 )\n",
    "# audio = normalize(data)\n",
    "# audio = librosa.effects.preemphasis(audio)\n",
    "# audio_lpc = librosa.lpc(data,44)"
   ]
  },
  {
   "cell_type": "code",
   "execution_count": 43,
   "metadata": {},
   "outputs": [
    {
     "data": {
      "text/plain": [
       "(45,)"
      ]
     },
     "execution_count": 43,
     "metadata": {},
     "output_type": "execute_result"
    }
   ],
   "source": [
    "# audio_lpc.shape"
   ]
  },
  {
   "cell_type": "code",
   "execution_count": 45,
   "metadata": {},
   "outputs": [
    {
     "data": {
      "text/plain": [
       "(45, 1)"
      ]
     },
     "execution_count": 45,
     "metadata": {},
     "output_type": "execute_result"
    }
   ],
   "source": [
    "# re_audio = audio_lpc.reshape(-1, 1)\n",
    "# re_audio.shape"
   ]
  },
  {
   "cell_type": "code",
   "execution_count": 34,
   "metadata": {},
   "outputs": [],
   "source": [
    "# audiomfc, sr = librosa.load(\"wav_files/train/dia0_utt0.wav\",res_type='kaiser_fast'\n",
    "#                                   ,duration=2.5\n",
    "#                                   ,sr=44100\n",
    "#                                   ,offset=0.5)\n",
    "# audio_mfcc = mfcc.mfcc(audiomfc, sr,nfilt=20, nfft=1200, appendEnergy=True)\n",
    "# audio_mfcc = preprocessing.scale(audio_mfcc)"
   ]
  },
  {
   "cell_type": "code",
   "execution_count": 35,
   "metadata": {},
   "outputs": [
    {
     "data": {
      "text/plain": [
       "(249, 13)"
      ]
     },
     "execution_count": 35,
     "metadata": {},
     "output_type": "execute_result"
    }
   ],
   "source": [
    "# audio_mfcc.shape"
   ]
  },
  {
   "cell_type": "code",
   "execution_count": 46,
   "metadata": {},
   "outputs": [],
   "source": [
    "# delta1 = delta(re_audio, 2)"
   ]
  },
  {
   "cell_type": "markdown",
   "metadata": {},
   "source": [
    "### Extract the features for each speaker"
   ]
  },
  {
   "cell_type": "code",
   "execution_count": 10,
   "metadata": {},
   "outputs": [
    {
     "name": "stdout",
     "output_type": "stream",
     "text": [
      "start extracting\n",
      "25 has no lpcs\n",
      "chandler\n",
      "37 has no lpcs\n",
      "rachel\n",
      "29 has no lpcs\n",
      "ross\n",
      "49 has no lpcs\n",
      "joey\n",
      "23 has no lpcs\n",
      "monica\n",
      "33 has no lpcs\n",
      "phoebe\n"
     ]
    }
   ],
   "source": [
    "chandler = X_train[X_train['Speaker']=='Chandler']\n",
    "rachel = X_train[X_train['Speaker']=='Rachel']\n",
    "ross = X_train[X_train['Speaker']=='Ross']\n",
    "joey = X_train[X_train['Speaker']=='Joey']\n",
    "monica = X_train[X_train['Speaker']=='Monica']\n",
    "phoebe = X_train[X_train['Speaker']=='Phoebe']\n",
    "\n",
    "\n",
    "#process the data, get the lpcs for every speaker\n",
    "print('start extracting')\n",
    "chandler_lpc = process_data(chandler)\n",
    "print('chandler')\n",
    "rachel_lpc = process_data(rachel)\n",
    "print('rachel')\n",
    "ross_lpc = process_data(ross)\n",
    "print('ross')\n",
    "joey_lpc = process_data(joey)\n",
    "print('joey')\n",
    "monica_lpc = process_data(monica)\n",
    "print('monica')\n",
    "phoebe_lpc = process_data(phoebe)\n",
    "print('phoebe')"
   ]
  },
  {
   "cell_type": "markdown",
   "metadata": {},
   "source": [
    "### Create the models, one for each speaker"
   ]
  },
  {
   "cell_type": "code",
   "execution_count": 12,
   "metadata": {},
   "outputs": [
    {
     "data": {
      "text/plain": [
       "GaussianMixture(covariance_type='diag', max_iter=200, n_init=3)"
      ]
     },
     "execution_count": 12,
     "metadata": {},
     "output_type": "execute_result"
    }
   ],
   "source": [
    "gmm_chandler = GaussianMixture(n_components=1, max_iter=200, covariance_type='diag', n_init=3)\n",
    "gmm_chandler.fit(chandler_lpc)\n",
    "gmm_rachel = GaussianMixture(n_components=1, max_iter=200, covariance_type='diag', n_init=3)\n",
    "gmm_rachel.fit(rachel_lpc)\n",
    "gmm_ross = GaussianMixture(n_components=1, max_iter=200, covariance_type='diag', n_init=3)\n",
    "gmm_ross.fit(ross_lpc)\n",
    "gmm_joey = GaussianMixture(n_components=1, max_iter=200, covariance_type='diag', n_init=3)\n",
    "gmm_joey.fit(joey_lpc)\n",
    "gmm_monica = GaussianMixture(n_components=1, max_iter=200, covariance_type='diag', n_init=3)\n",
    "gmm_monica.fit(monica_lpc)\n",
    "gmm_phoebe = GaussianMixture(n_components=1, max_iter=200, covariance_type='diag', n_init=3)\n",
    "gmm_phoebe.fit(phoebe_lpc)"
   ]
  },
  {
   "cell_type": "markdown",
   "metadata": {},
   "source": [
    "### Use the model to identify the speakers in the testing set"
   ]
  },
  {
   "cell_type": "code",
   "execution_count": 13,
   "metadata": {},
   "outputs": [
    {
     "name": "stdout",
     "output_type": "stream",
     "text": [
      "The accuracy of this model is 0.15221579961464354\n"
     ]
    }
   ],
   "source": [
    "#n_components = 1\n",
    "prediction = X_test.copy()\n",
    "prediction['Predictions'] = prediction.apply(lambda row: identify(row['Dialogue_ID'], row['Utterance_ID'], \n",
    "                                                          gmm_chandler, gmm_rachel, gmm_ross,\n",
    "                                                         gmm_joey, gmm_monica, gmm_phoebe), axis=1)\n",
    "\n",
    "correct_label = (prediction['Speaker'] == prediction['Predictions'])\n",
    "accuracy = correct_label.sum()/len(prediction)\n",
    "\n",
    "print(\"The accuracy of this model is \"+str(accuracy))"
   ]
  },
  {
   "cell_type": "code",
   "execution_count": null,
   "metadata": {},
   "outputs": [],
   "source": []
  },
  {
   "cell_type": "code",
   "execution_count": null,
   "metadata": {},
   "outputs": [],
   "source": []
  },
  {
   "cell_type": "markdown",
   "metadata": {},
   "source": [
    "### Function to run the train and test for different parameters of the model"
   ]
  },
  {
   "cell_type": "code",
   "execution_count": 14,
   "metadata": {},
   "outputs": [],
   "source": [
    "def train_test(n, cov):\n",
    "    \"\"\"\n",
    "    n - n_components\n",
    "    cov - covariance_type\n",
    "    \"\"\"\n",
    "    gmm_chandler = GaussianMixture(n_components=n, max_iter=200, covariance_type=cov, n_init=3)\n",
    "    gmm_chandler.fit(chandler_lpc)\n",
    "    gmm_rachel = GaussianMixture(n_components=n, max_iter=200, covariance_type=cov, n_init=3)\n",
    "    gmm_rachel.fit(rachel_lpc)\n",
    "    gmm_ross = GaussianMixture(n_components=n, max_iter=200, covariance_type=cov, n_init=3)\n",
    "    gmm_ross.fit(ross_lpc)\n",
    "    gmm_joey = GaussianMixture(n_components=n, max_iter=200, covariance_type=cov, n_init=3)\n",
    "    gmm_joey.fit(joey_lpc)\n",
    "    gmm_monica = GaussianMixture(n_components=n, max_iter=200, covariance_type=cov, n_init=3)\n",
    "    gmm_monica.fit(monica_lpc)\n",
    "    gmm_phoebe = GaussianMixture(n_components=n, max_iter=200, covariance_type=cov, n_init=3)\n",
    "    gmm_phoebe.fit(phoebe_lpc)\n",
    "    \n",
    "    prediction = X_test.copy()\n",
    "    prediction['Predictions'] = prediction.apply(lambda row: identify(row['Dialogue_ID'], row['Utterance_ID'], \n",
    "                                                              gmm_chandler, gmm_rachel, gmm_ross,\n",
    "                                                             gmm_joey, gmm_monica, gmm_phoebe), axis=1)\n",
    "\n",
    "    correct_label = (prediction['Speaker'] == prediction['Predictions'])\n",
    "    accuracy = correct_label.sum()/len(prediction)\n",
    "\n",
    "    #print(\"The accuracy of this model is \"+str(accuracy))\n",
    "    return accuracy"
   ]
  },
  {
   "cell_type": "code",
   "execution_count": 15,
   "metadata": {},
   "outputs": [
    {
     "name": "stdout",
     "output_type": "stream",
     "text": [
      "The accuracy of this model is 0.15221579961464354\n"
     ]
    }
   ],
   "source": [
    "#n_component=1, covariance_type='diag'\n",
    "accuracy = train_test(n=1, cov='diag')\n",
    "print(\"The accuracy of this model is \"+str(accuracy))"
   ]
  },
  {
   "cell_type": "code",
   "execution_count": 16,
   "metadata": {},
   "outputs": [
    {
     "name": "stdout",
     "output_type": "stream",
     "text": [
      "The accuracy of this model is 0.16714836223506743\n"
     ]
    }
   ],
   "source": [
    "#n_component=8, covariance_type='diag'\n",
    "accuracy = train_test(n=8, cov='diag')\n",
    "print(\"The accuracy of this model is \"+str(accuracy))"
   ]
  },
  {
   "cell_type": "code",
   "execution_count": null,
   "metadata": {},
   "outputs": [],
   "source": []
  }
 ],
 "metadata": {
  "kernelspec": {
   "display_name": "Python 3",
   "language": "python",
   "name": "python3"
  },
  "language_info": {
   "codemirror_mode": {
    "name": "ipython",
    "version": 3
   },
   "file_extension": ".py",
   "mimetype": "text/x-python",
   "name": "python",
   "nbconvert_exporter": "python",
   "pygments_lexer": "ipython3",
   "version": "3.8.5"
  }
 },
 "nbformat": 4,
 "nbformat_minor": 5
}
