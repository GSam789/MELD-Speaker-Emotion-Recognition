{
 "cells": [
  {
   "cell_type": "code",
   "execution_count": 1,
   "id": "d2a1b05a",
   "metadata": {},
   "outputs": [],
   "source": [
    "import pandas as pd\n",
    "import numpy as np\n",
    "import os\n",
    "\n",
    "import librosa\n",
    "import moviepy.editor as mp\n",
    "\n",
    "#use this package to extract mfcc features\n",
    "import python_speech_features as mfcc\n",
    "from python_speech_features import delta\n",
    "\n",
    "from sklearn import preprocessing\n",
    "from sklearn.model_selection import train_test_split\n",
    "from sklearn.mixture import GaussianMixture"
   ]
  },
  {
   "cell_type": "markdown",
   "id": "87cb8c0c",
   "metadata": {},
   "source": [
    "### Prepare the dataset"
   ]
  },
  {
   "cell_type": "code",
   "execution_count": 2,
   "id": "e5e6085a",
   "metadata": {},
   "outputs": [],
   "source": [
    "#get all the video files\n",
    "#video_path = r\"C:/Users/Gauri/OneDrive/Desktop/DS3/MELD.Raw/train_splits\"\n",
    "audio_path = r\"C:/Users/Gauri/OneDrive/Desktop/DS3/MELD.Raw/EDA/Wavs\"\n",
    "#files = os.listdir(video_path)\n",
    "wav_files = os.listdir(audio_path)\n",
    "#error_files when converting data\n",
    "error_files = ['dia125_utt3.mp4']"
   ]
  },
  {
   "cell_type": "code",
   "execution_count": 3,
   "id": "f84224bf",
   "metadata": {},
   "outputs": [
    {
     "data": {
      "text/html": [
       "<div>\n",
       "<style scoped>\n",
       "    .dataframe tbody tr th:only-of-type {\n",
       "        vertical-align: middle;\n",
       "    }\n",
       "\n",
       "    .dataframe tbody tr th {\n",
       "        vertical-align: top;\n",
       "    }\n",
       "\n",
       "    .dataframe thead th {\n",
       "        text-align: right;\n",
       "    }\n",
       "</style>\n",
       "<table border=\"1\" class=\"dataframe\">\n",
       "  <thead>\n",
       "    <tr style=\"text-align: right;\">\n",
       "      <th></th>\n",
       "      <th>Sr No.</th>\n",
       "      <th>Utterance</th>\n",
       "      <th>Speaker</th>\n",
       "      <th>Emotion</th>\n",
       "      <th>Sentiment</th>\n",
       "      <th>Dialogue_ID</th>\n",
       "      <th>Utterance_ID</th>\n",
       "      <th>Season</th>\n",
       "      <th>Episode</th>\n",
       "      <th>StartTime</th>\n",
       "      <th>EndTime</th>\n",
       "    </tr>\n",
       "  </thead>\n",
       "  <tbody>\n",
       "    <tr>\n",
       "      <th>0</th>\n",
       "      <td>1</td>\n",
       "      <td>also I was the point person on my companys tr...</td>\n",
       "      <td>Chandler</td>\n",
       "      <td>neutral</td>\n",
       "      <td>neutral</td>\n",
       "      <td>0</td>\n",
       "      <td>0</td>\n",
       "      <td>8</td>\n",
       "      <td>21</td>\n",
       "      <td>00:16:16,059</td>\n",
       "      <td>00:16:21,731</td>\n",
       "    </tr>\n",
       "    <tr>\n",
       "      <th>1</th>\n",
       "      <td>2</td>\n",
       "      <td>You mustve had your hands full.</td>\n",
       "      <td>The Interviewer</td>\n",
       "      <td>neutral</td>\n",
       "      <td>neutral</td>\n",
       "      <td>0</td>\n",
       "      <td>1</td>\n",
       "      <td>8</td>\n",
       "      <td>21</td>\n",
       "      <td>00:16:21,940</td>\n",
       "      <td>00:16:23,442</td>\n",
       "    </tr>\n",
       "    <tr>\n",
       "      <th>2</th>\n",
       "      <td>3</td>\n",
       "      <td>That I did. That I did.</td>\n",
       "      <td>Chandler</td>\n",
       "      <td>neutral</td>\n",
       "      <td>neutral</td>\n",
       "      <td>0</td>\n",
       "      <td>2</td>\n",
       "      <td>8</td>\n",
       "      <td>21</td>\n",
       "      <td>00:16:23,442</td>\n",
       "      <td>00:16:26,389</td>\n",
       "    </tr>\n",
       "    <tr>\n",
       "      <th>3</th>\n",
       "      <td>4</td>\n",
       "      <td>So lets talk a little bit about your duties.</td>\n",
       "      <td>The Interviewer</td>\n",
       "      <td>neutral</td>\n",
       "      <td>neutral</td>\n",
       "      <td>0</td>\n",
       "      <td>3</td>\n",
       "      <td>8</td>\n",
       "      <td>21</td>\n",
       "      <td>00:16:26,820</td>\n",
       "      <td>00:16:29,572</td>\n",
       "    </tr>\n",
       "    <tr>\n",
       "      <th>4</th>\n",
       "      <td>5</td>\n",
       "      <td>My duties?  All right.</td>\n",
       "      <td>Chandler</td>\n",
       "      <td>surprise</td>\n",
       "      <td>positive</td>\n",
       "      <td>0</td>\n",
       "      <td>4</td>\n",
       "      <td>8</td>\n",
       "      <td>21</td>\n",
       "      <td>00:16:34,452</td>\n",
       "      <td>00:16:40,917</td>\n",
       "    </tr>\n",
       "    <tr>\n",
       "      <th>...</th>\n",
       "      <td>...</td>\n",
       "      <td>...</td>\n",
       "      <td>...</td>\n",
       "      <td>...</td>\n",
       "      <td>...</td>\n",
       "      <td>...</td>\n",
       "      <td>...</td>\n",
       "      <td>...</td>\n",
       "      <td>...</td>\n",
       "      <td>...</td>\n",
       "      <td>...</td>\n",
       "    </tr>\n",
       "    <tr>\n",
       "      <th>9984</th>\n",
       "      <td>10474</td>\n",
       "      <td>You or me?</td>\n",
       "      <td>Chandler</td>\n",
       "      <td>neutral</td>\n",
       "      <td>neutral</td>\n",
       "      <td>1038</td>\n",
       "      <td>13</td>\n",
       "      <td>2</td>\n",
       "      <td>3</td>\n",
       "      <td>00:00:48,173</td>\n",
       "      <td>00:00:50,799</td>\n",
       "    </tr>\n",
       "    <tr>\n",
       "      <th>9985</th>\n",
       "      <td>10475</td>\n",
       "      <td>I got it. Uh, Joey, women don't have Adam's ap...</td>\n",
       "      <td>Ross</td>\n",
       "      <td>neutral</td>\n",
       "      <td>neutral</td>\n",
       "      <td>1038</td>\n",
       "      <td>14</td>\n",
       "      <td>2</td>\n",
       "      <td>3</td>\n",
       "      <td>00:00:51,009</td>\n",
       "      <td>00:00:53,594</td>\n",
       "    </tr>\n",
       "    <tr>\n",
       "      <th>9986</th>\n",
       "      <td>10476</td>\n",
       "      <td>You guys are messing with me, right?</td>\n",
       "      <td>Joey</td>\n",
       "      <td>surprise</td>\n",
       "      <td>positive</td>\n",
       "      <td>1038</td>\n",
       "      <td>15</td>\n",
       "      <td>2</td>\n",
       "      <td>3</td>\n",
       "      <td>00:01:00,518</td>\n",
       "      <td>00:01:03,520</td>\n",
       "    </tr>\n",
       "    <tr>\n",
       "      <th>9987</th>\n",
       "      <td>10477</td>\n",
       "      <td>Yeah.</td>\n",
       "      <td>All</td>\n",
       "      <td>neutral</td>\n",
       "      <td>neutral</td>\n",
       "      <td>1038</td>\n",
       "      <td>16</td>\n",
       "      <td>2</td>\n",
       "      <td>3</td>\n",
       "      <td>00:01:05,398</td>\n",
       "      <td>00:01:07,274</td>\n",
       "    </tr>\n",
       "    <tr>\n",
       "      <th>9988</th>\n",
       "      <td>10478</td>\n",
       "      <td>That was a good one. For a second there, I was...</td>\n",
       "      <td>Joey</td>\n",
       "      <td>joy</td>\n",
       "      <td>positive</td>\n",
       "      <td>1038</td>\n",
       "      <td>17</td>\n",
       "      <td>2</td>\n",
       "      <td>3</td>\n",
       "      <td>00:01:08,401</td>\n",
       "      <td>00:01:12,071</td>\n",
       "    </tr>\n",
       "  </tbody>\n",
       "</table>\n",
       "<p>9988 rows × 11 columns</p>\n",
       "</div>"
      ],
      "text/plain": [
       "      Sr No.                                          Utterance  \\\n",
       "0          1  also I was the point person on my companys tr...   \n",
       "1          2                   You mustve had your hands full.   \n",
       "2          3                            That I did. That I did.   \n",
       "3          4      So lets talk a little bit about your duties.   \n",
       "4          5                             My duties?  All right.   \n",
       "...      ...                                                ...   \n",
       "9984   10474                                         You or me?   \n",
       "9985   10475  I got it. Uh, Joey, women don't have Adam's ap...   \n",
       "9986   10476               You guys are messing with me, right?   \n",
       "9987   10477                                              Yeah.   \n",
       "9988   10478  That was a good one. For a second there, I was...   \n",
       "\n",
       "              Speaker   Emotion Sentiment  Dialogue_ID  Utterance_ID  Season  \\\n",
       "0            Chandler   neutral   neutral            0             0       8   \n",
       "1     The Interviewer   neutral   neutral            0             1       8   \n",
       "2            Chandler   neutral   neutral            0             2       8   \n",
       "3     The Interviewer   neutral   neutral            0             3       8   \n",
       "4            Chandler  surprise  positive            0             4       8   \n",
       "...               ...       ...       ...          ...           ...     ...   \n",
       "9984         Chandler   neutral   neutral         1038            13       2   \n",
       "9985             Ross   neutral   neutral         1038            14       2   \n",
       "9986             Joey  surprise  positive         1038            15       2   \n",
       "9987              All   neutral   neutral         1038            16       2   \n",
       "9988             Joey       joy  positive         1038            17       2   \n",
       "\n",
       "      Episode     StartTime       EndTime  \n",
       "0          21  00:16:16,059  00:16:21,731  \n",
       "1          21  00:16:21,940  00:16:23,442  \n",
       "2          21  00:16:23,442  00:16:26,389  \n",
       "3          21  00:16:26,820  00:16:29,572  \n",
       "4          21  00:16:34,452  00:16:40,917  \n",
       "...       ...           ...           ...  \n",
       "9984        3  00:00:48,173  00:00:50,799  \n",
       "9985        3  00:00:51,009  00:00:53,594  \n",
       "9986        3  00:01:00,518  00:01:03,520  \n",
       "9987        3  00:01:05,398  00:01:07,274  \n",
       "9988        3  00:01:08,401  00:01:12,071  \n",
       "\n",
       "[9988 rows x 11 columns]"
      ]
     },
     "execution_count": 3,
     "metadata": {},
     "output_type": "execute_result"
    }
   ],
   "source": [
    "data_df = pd.read_csv(\"train_sent_emo.csv\")\n",
    "#drop the row that give us an error audio\n",
    "error = data_df[(data_df['Dialogue_ID']==125) & (data_df['Utterance_ID']==3)].index\n",
    "data_df.drop(error, inplace=True)\n",
    "data_df"
   ]
  },
  {
   "cell_type": "markdown",
   "id": "dc017d3e",
   "metadata": {},
   "source": [
    "### Split the Train/Test dataset"
   ]
  },
  {
   "cell_type": "code",
   "execution_count": 4,
   "id": "adc7d8ae",
   "metadata": {},
   "outputs": [],
   "source": [
    "#select the main characters and split training and testing set\n",
    "main = ['Chandler', 'Rachel', 'Ross', 'Joey', 'Monica', 'Phoebe']\n",
    "main_data = data_df[data_df['Speaker'].isin(main)]\n",
    "X_train, X_test, y_train, y_test = train_test_split(main_data[['Dialogue_ID', 'Utterance_ID','Speaker']], \n",
    "                                                    main_data['Speaker'], \n",
    "                                                    test_size=0.25, shuffle=True, random_state=42)"
   ]
  },
  {
   "cell_type": "markdown",
   "id": "573e375d",
   "metadata": {},
   "source": [
    "### Define Hepler Functions"
   ]
  },
  {
   "cell_type": "code",
   "execution_count": 5,
   "id": "862f645b",
   "metadata": {},
   "outputs": [],
   "source": [
    "def process_data(df):\n",
    "    \"\"\"\n",
    "    Extract features from a dataframes of audio files\n",
    "    Input: A dataframe contains the Dialogue ID and Utterance ID\n",
    "    Output: A 2D numpy array of features extracted from audio files (MFCC, MFCC_delta, MFCC_delta_delta)\n",
    "    \"\"\"\n",
    "    mfcc_features = np.array([])\n",
    "    counter = 0 #used to count how many audio files does not have mfcc\n",
    "    \n",
    "    for i in range(len(df)):\n",
    "        entry = df.iloc[i]\n",
    "        dia = entry['Dialogue_ID']\n",
    "        utt = entry['Utterance_ID']\n",
    "        path = fr\"C:\\Users\\Gauri\\OneDrive\\Desktop\\DS3\\MELD.Raw\\EDA\\Wavs\\dia{dia}_utt{utt}.wav\"\n",
    "        audio, sr = librosa.load(path,res_type='kaiser_fast'\n",
    "                                  ,duration=2.5\n",
    "                                  ,sr=44100\n",
    "                                  ,offset=0.5)\n",
    "        #print(audio.shape)\n",
    "        try:\n",
    "            audio_mfcc = mfcc.mfcc(audio, sr,nfilt=20, nfft=1200, appendEnergy=True)\n",
    "        except:\n",
    "            #print('no mfcc from audio')\n",
    "            counter = counter+1\n",
    "            continue\n",
    "            \n",
    "        audio_mfcc = preprocessing.scale(audio_mfcc)\n",
    "        delta1 = delta(audio_mfcc, 2)\n",
    "        delta2 = delta(delta1, 2)\n",
    "        combined = np.hstack((audio_mfcc, delta1, delta2))\n",
    "        if mfcc_features.size == 0:\n",
    "            mfcc_features = combined\n",
    "        else:\n",
    "            mfcc_features = np.vstack((mfcc_features, combined))\n",
    "            \n",
    "    \n",
    "    print(str(counter)+\" has no mfccs\")\n",
    "    return mfcc_features"
   ]
  },
  {
   "cell_type": "code",
   "execution_count": 6,
   "id": "10e7fbcb",
   "metadata": {},
   "outputs": [],
   "source": [
    "def identify(dia, utt, m1, m2, m3, m4, m5, m6):\n",
    "    \"\"\"\n",
    "    Given an audio file and six models, identify the speaker\n",
    "    Input: Dialogue ID, Utterance ID, and six models(one for each speaker)\n",
    "    Output: the speaker\n",
    "    \"\"\"\n",
    "    path = fr\"C:\\Users\\Gauri\\OneDrive\\Desktop\\DS3\\MELD.Raw\\EDA\\Wavs\\dia{dia}_utt{utt}.wav\"\n",
    "\n",
    "    audio, sr = librosa.load(path,res_type='kaiser_fast'\n",
    "                                      ,duration=2.5\n",
    "                                      ,sr=44100\n",
    "                                      ,offset=0.5)\n",
    "    try:\n",
    "        audio_mfcc = mfcc.mfcc(audio, sr,nfilt=20, nfft=1200, appendEnergy=True)\n",
    "    except:\n",
    "        return None\n",
    "    audio_mfcc = preprocessing.scale(audio_mfcc)\n",
    "    delta1 = delta(audio_mfcc, 2)\n",
    "    delta2 = delta(delta1, 2)\n",
    "    combined = np.hstack((audio_mfcc, delta1, delta2))\n",
    "\n",
    "    scores = np.array([m1.score(combined), m2.score(combined), m3.score(combined),\n",
    "                         m4.score(combined), m5.score(combined), m6.score(combined)])\n",
    "    idx = np.argmax(scores)\n",
    "    \n",
    "    return main[idx]"
   ]
  },
  {
   "cell_type": "markdown",
   "id": "b32028a2",
   "metadata": {},
   "source": [
    "### Extract the features for each speaker"
   ]
  },
  {
   "cell_type": "code",
   "execution_count": 7,
   "id": "00c4390e",
   "metadata": {},
   "outputs": [
    {
     "name": "stdout",
     "output_type": "stream",
     "text": [
      "start extracting\n",
      "23 has no mfccs\n",
      "chandler\n",
      "36 has no mfccs\n",
      "rachel\n",
      "30 has no mfccs\n",
      "ross\n",
      "49 has no mfccs\n",
      "joey\n",
      "24 has no mfccs\n",
      "monica\n",
      "32 has no mfccs\n",
      "phoebe\n"
     ]
    }
   ],
   "source": [
    "chandler = X_train[X_train['Speaker']=='Chandler']\n",
    "rachel = X_train[X_train['Speaker']=='Rachel']\n",
    "ross = X_train[X_train['Speaker']=='Ross']\n",
    "joey = X_train[X_train['Speaker']=='Joey']\n",
    "monica = X_train[X_train['Speaker']=='Monica']\n",
    "phoebe = X_train[X_train['Speaker']=='Phoebe']\n",
    "\n",
    "\n",
    "#process the data, get the mfccs for every speaker\n",
    "print('start extracting')\n",
    "chandler_mfcc = process_data(chandler)\n",
    "print('chandler')\n",
    "rachel_mfcc = process_data(rachel)\n",
    "print('rachel')\n",
    "ross_mfcc = process_data(ross)\n",
    "print('ross')\n",
    "joey_mfcc = process_data(joey)\n",
    "print('joey')\n",
    "monica_mfcc = process_data(monica)\n",
    "print('monica')\n",
    "phoebe_mfcc = process_data(phoebe)\n",
    "print('phoebe')"
   ]
  },
  {
   "cell_type": "markdown",
   "id": "c403734d",
   "metadata": {},
   "source": [
    "### Create the models, one for each speaker"
   ]
  },
  {
   "cell_type": "code",
   "execution_count": 8,
   "id": "e0d28e5d",
   "metadata": {},
   "outputs": [
    {
     "data": {
      "text/plain": [
       "GaussianMixture(covariance_type='diag', max_iter=200, n_init=3)"
      ]
     },
     "execution_count": 8,
     "metadata": {},
     "output_type": "execute_result"
    }
   ],
   "source": [
    "gmm_chandler = GaussianMixture(n_components=1, max_iter=200, covariance_type='diag', n_init=3)\n",
    "gmm_chandler.fit(chandler_mfcc)\n",
    "gmm_rachel = GaussianMixture(n_components=1, max_iter=200, covariance_type='diag', n_init=3)\n",
    "gmm_rachel.fit(rachel_mfcc)\n",
    "gmm_ross = GaussianMixture(n_components=1, max_iter=200, covariance_type='diag', n_init=3)\n",
    "gmm_ross.fit(ross_mfcc)\n",
    "gmm_joey = GaussianMixture(n_components=1, max_iter=200, covariance_type='diag', n_init=3)\n",
    "gmm_joey.fit(joey_mfcc)\n",
    "gmm_monica = GaussianMixture(n_components=1, max_iter=200, covariance_type='diag', n_init=3)\n",
    "gmm_monica.fit(monica_mfcc)\n",
    "gmm_phoebe = GaussianMixture(n_components=1, max_iter=200, covariance_type='diag', n_init=3)\n",
    "gmm_phoebe.fit(phoebe_mfcc)"
   ]
  },
  {
   "cell_type": "markdown",
   "id": "0095b083",
   "metadata": {},
   "source": [
    "### Use the model to identify the speakers in the testing set"
   ]
  },
  {
   "cell_type": "code",
   "execution_count": 9,
   "id": "9bfe1173",
   "metadata": {},
   "outputs": [
    {
     "name": "stdout",
     "output_type": "stream",
     "text": [
      "The accuracy of this model is 0.2128069330765527\n"
     ]
    }
   ],
   "source": [
    "#n_components = 1\n",
    "prediction = X_test.copy()\n",
    "prediction['Predictions'] = prediction.apply(lambda row: identify(row['Dialogue_ID'], row['Utterance_ID'], \n",
    "                                                          gmm_chandler, gmm_rachel, gmm_ross,\n",
    "                                                         gmm_joey, gmm_monica, gmm_phoebe), axis=1)\n",
    "\n",
    "correct_label = (prediction['Speaker'] == prediction['Predictions'])\n",
    "accuracy = correct_label.sum()/len(prediction)\n",
    "\n",
    "print(\"The accuracy of this model is \"+str(accuracy))"
   ]
  },
  {
   "cell_type": "code",
   "execution_count": null,
   "id": "1ddfd9fc",
   "metadata": {},
   "outputs": [],
   "source": []
  },
  {
   "cell_type": "code",
   "execution_count": null,
   "id": "ad42f51e",
   "metadata": {},
   "outputs": [],
   "source": []
  },
  {
   "cell_type": "markdown",
   "id": "33b1dd86",
   "metadata": {},
   "source": [
    "### Function to run the train and test for different parameters of the model"
   ]
  },
  {
   "cell_type": "code",
   "execution_count": 10,
   "id": "95ddf399",
   "metadata": {},
   "outputs": [],
   "source": [
    "def train_test(n, cov):\n",
    "    \"\"\"\n",
    "    n - n_components\n",
    "    cov - covariance_type\n",
    "    \"\"\"\n",
    "    gmm_chandler = GaussianMixture(n_components=n, max_iter=200, covariance_type=cov, n_init=3)\n",
    "    gmm_chandler.fit(chandler_mfcc)\n",
    "    gmm_rachel = GaussianMixture(n_components=n, max_iter=200, covariance_type=cov, n_init=3)\n",
    "    gmm_rachel.fit(rachel_mfcc)\n",
    "    gmm_ross = GaussianMixture(n_components=n, max_iter=200, covariance_type=cov, n_init=3)\n",
    "    gmm_ross.fit(ross_mfcc)\n",
    "    gmm_joey = GaussianMixture(n_components=n, max_iter=200, covariance_type=cov, n_init=3)\n",
    "    gmm_joey.fit(joey_mfcc)\n",
    "    gmm_monica = GaussianMixture(n_components=n, max_iter=200, covariance_type=cov, n_init=3)\n",
    "    gmm_monica.fit(monica_mfcc)\n",
    "    gmm_phoebe = GaussianMixture(n_components=n, max_iter=200, covariance_type=cov, n_init=3)\n",
    "    gmm_phoebe.fit(phoebe_mfcc)\n",
    "    \n",
    "    prediction = X_test.copy()\n",
    "    prediction['Predictions'] = prediction.apply(lambda row: identify(row['Dialogue_ID'], row['Utterance_ID'], \n",
    "                                                              gmm_chandler, gmm_rachel, gmm_ross,\n",
    "                                                             gmm_joey, gmm_monica, gmm_phoebe), axis=1)\n",
    "\n",
    "    correct_label = (prediction['Speaker'] == prediction['Predictions'])\n",
    "    accuracy = correct_label.sum()/len(prediction)\n",
    "\n",
    "    #print(\"The accuracy of this model is \"+str(accuracy))\n",
    "    return accuracy"
   ]
  },
  {
   "cell_type": "code",
   "execution_count": 36,
   "id": "b7a2b428",
   "metadata": {},
   "outputs": [
    {
     "name": "stdout",
     "output_type": "stream",
     "text": [
      "The accuracy of this model is 0.2128069330765527\n"
     ]
    },
    {
     "data": {
      "text/plain": [
       "0.2128069330765527"
      ]
     },
     "execution_count": 36,
     "metadata": {},
     "output_type": "execute_result"
    }
   ],
   "source": [
    "#n_component=1, covariance_type='diag'\n",
    "accuracy = train_test(n=1, cov='diag')\n",
    "print(\"The accuracy of this model is \"+str(accuracy))"
   ]
  },
  {
   "cell_type": "code",
   "execution_count": 14,
   "id": "e4a6deb6",
   "metadata": {},
   "outputs": [
    {
     "name": "stdout",
     "output_type": "stream",
     "text": [
      "The accuracy of this model is 0.5267212325469427\n"
     ]
    }
   ],
   "source": [
    "#n_component=8, covariance_type='diag'\n",
    "accuracy = train_test(n=8, cov='diag')\n",
    "print(\"The accuracy of this model is \"+str(accuracy))"
   ]
  },
  {
   "cell_type": "code",
   "execution_count": 15,
   "id": "78e189cd",
   "metadata": {},
   "outputs": [
    {
     "name": "stdout",
     "output_type": "stream",
     "text": [
      "The accuracy of this model is 0.5960519980741454\n"
     ]
    }
   ],
   "source": [
    "#n_component=32, covariance_type='diag'\n",
    "accuracy = train_test(n=32, cov='diag')\n",
    "print(\"The accuracy of this model is \"+str(accuracy))"
   ]
  },
  {
   "cell_type": "code",
   "execution_count": 16,
   "id": "d8b8167e",
   "metadata": {},
   "outputs": [
    {
     "name": "stdout",
     "output_type": "stream",
     "text": [
      "The accuracy of this model is 0.6172363986519018\n"
     ]
    }
   ],
   "source": [
    "#n_component=64, covariance_type='diag'\n",
    "accuracy = train_test(n=64, cov='diag')\n",
    "print(\"The accuracy of this model is \"+str(accuracy))"
   ]
  },
  {
   "cell_type": "code",
   "execution_count": null,
   "id": "05020a82",
   "metadata": {},
   "outputs": [],
   "source": []
  }
 ],
 "metadata": {
  "kernelspec": {
   "display_name": "Python 3",
   "language": "python",
   "name": "python3"
  },
  "language_info": {
   "codemirror_mode": {
    "name": "ipython",
    "version": 3
   },
   "file_extension": ".py",
   "mimetype": "text/x-python",
   "name": "python",
   "nbconvert_exporter": "python",
   "pygments_lexer": "ipython3",
   "version": "3.6.8"
  }
 },
 "nbformat": 4,
 "nbformat_minor": 5
}
